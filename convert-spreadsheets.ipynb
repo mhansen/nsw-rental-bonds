{
 "cells": [
  {
   "cell_type": "code",
   "execution_count": 22,
   "metadata": {},
   "outputs": [],
   "source": [
    "import pandas as pd\n",
    "from glob import glob\n",
    "\n",
    "xlsxs = glob(\"xlsx/*.xlsx\")\n",
    "\n",
    "# Convert one xlsx file to Pandas dataframe.\n",
    "def to_dataframe(f):\n",
    "    return pd.read_excel(\n",
    "        io=f,\n",
    "        header=2,\n",
    "        # 'U' is used as unknown for many columns in the data.\n",
    "        # Seems reasonable to treat that as None/null.\n",
    "        na_values='U'\n",
    "    )"
   ]
  },
  {
   "cell_type": "code",
   "execution_count": 7,
   "metadata": {},
   "outputs": [
    {
     "data": {
      "text/plain": [
       "['xlsx/RentalBond_Lodgements_June_2019.xlsx',\n",
       " 'xlsx/RentalBond_Lodgements_January_2018.xlsx',\n",
       " 'xlsx/RentalBond_Lodgements_July_2020.xlsx',\n",
       " 'xlsx/RentalBond_Lodgements_December_2019.xlsx',\n",
       " 'xlsx/Rental-Bond-Lodgements-for-August-2019.xlsx',\n",
       " 'xlsx/RentalBond_Lodgements_January_2019.xlsx',\n",
       " 'xlsx/RentalBond_Lodgements_June_2018.xlsx',\n",
       " 'xlsx/RentalBond_Lodgements_October_2018.xlsx',\n",
       " 'xlsx/RentalBond_Lodgements_March_2019.xlsx',\n",
       " 'xlsx/Rental-bond-lodgements-for-March-2020.xlsx',\n",
       " 'xlsx/RentalBond_Lodgements_May_2018.xlsx',\n",
       " 'xlsx/RentalBond_Lodgements_February_2020.xlsx',\n",
       " 'xlsx/RentalBond_Lodgements_November_2018-Copy.xlsx',\n",
       " 'xlsx/RentalBond_Lodgements_May_2019.xlsx',\n",
       " 'xlsx/RentalBond_Lodgements_April_2020.xlsx',\n",
       " 'xlsx/RentalBond_Lodgements_December_2018-Copy.xlsx',\n",
       " 'xlsx/RentalBond_Lodgements_March_2018.xlsx',\n",
       " 'xlsx/RentalBond_Lodgements_April_2019.xlsx',\n",
       " 'xlsx/RentalBond_Lodgements_February_2019.xlsx',\n",
       " 'xlsx/Rental-Bond-Lodgements-for-May-2020.xlsx',\n",
       " 'xlsx/RentalBond_Lodgements_February_2018.xlsx',\n",
       " 'xlsx/RentalBond_Lodgements_April_2018.xlsx',\n",
       " 'xlsx/RentalBond_Lodgements_August_2018.xlsx',\n",
       " 'xlsx/Rental-Bond-Lodgements-for-October-2019.xlsx',\n",
       " 'xlsx/RentalBond_Lodgements_January_2020.xlsx',\n",
       " 'xlsx/Rental-Bond-Lodgements-for-November-2019.xlsx',\n",
       " 'xlsx/RentalBond_Lodgements_July_2018.xlsx',\n",
       " 'xlsx/RentalBond_Lodgements_July_2019.xlsx',\n",
       " 'xlsx/RentalBond_Lodgements_June_2020.xlsx',\n",
       " 'xlsx/RentalBond_Lodgements_September_2018.xlsx',\n",
       " 'xlsx/Rental-Bond-Lodgements-for-September-2019.xlsx']"
      ]
     },
     "execution_count": 7,
     "metadata": {},
     "output_type": "execute_result"
    }
   ],
   "source": [
    "# Check our glob worked\n",
    "xlsxs"
   ]
  },
  {
   "cell_type": "code",
   "execution_count": 23,
   "metadata": {},
   "outputs": [
    {
     "data": {
      "text/html": [
       "<div>\n",
       "<style scoped>\n",
       "    .dataframe tbody tr th:only-of-type {\n",
       "        vertical-align: middle;\n",
       "    }\n",
       "\n",
       "    .dataframe tbody tr th {\n",
       "        vertical-align: top;\n",
       "    }\n",
       "\n",
       "    .dataframe thead th {\n",
       "        text-align: right;\n",
       "    }\n",
       "</style>\n",
       "<table border=\"1\" class=\"dataframe\">\n",
       "  <thead>\n",
       "    <tr style=\"text-align: right;\">\n",
       "      <th></th>\n",
       "      <th>Lodgement Date</th>\n",
       "      <th>Postcode</th>\n",
       "      <th>Dwelling Type</th>\n",
       "      <th>Bedrooms</th>\n",
       "      <th>Weekly Rent</th>\n",
       "    </tr>\n",
       "  </thead>\n",
       "  <tbody>\n",
       "    <tr>\n",
       "      <th>0</th>\n",
       "      <td>2019-06-04</td>\n",
       "      <td>2000</td>\n",
       "      <td>F</td>\n",
       "      <td>0.0</td>\n",
       "      <td>500.0</td>\n",
       "    </tr>\n",
       "    <tr>\n",
       "      <th>1</th>\n",
       "      <td>2019-06-07</td>\n",
       "      <td>2000</td>\n",
       "      <td>F</td>\n",
       "      <td>0.0</td>\n",
       "      <td>500.0</td>\n",
       "    </tr>\n",
       "    <tr>\n",
       "      <th>2</th>\n",
       "      <td>2019-06-18</td>\n",
       "      <td>2000</td>\n",
       "      <td>F</td>\n",
       "      <td>0.0</td>\n",
       "      <td>785.0</td>\n",
       "    </tr>\n",
       "    <tr>\n",
       "      <th>3</th>\n",
       "      <td>2019-06-17</td>\n",
       "      <td>2000</td>\n",
       "      <td>F</td>\n",
       "      <td>0.0</td>\n",
       "      <td>580.0</td>\n",
       "    </tr>\n",
       "    <tr>\n",
       "      <th>4</th>\n",
       "      <td>2019-06-28</td>\n",
       "      <td>2000</td>\n",
       "      <td>F</td>\n",
       "      <td>0.0</td>\n",
       "      <td>590.0</td>\n",
       "    </tr>\n",
       "    <tr>\n",
       "      <th>...</th>\n",
       "      <td>...</td>\n",
       "      <td>...</td>\n",
       "      <td>...</td>\n",
       "      <td>...</td>\n",
       "      <td>...</td>\n",
       "    </tr>\n",
       "    <tr>\n",
       "      <th>29570</th>\n",
       "      <td>2019-09-20</td>\n",
       "      <td>2880</td>\n",
       "      <td>H</td>\n",
       "      <td>3.0</td>\n",
       "      <td>200.0</td>\n",
       "    </tr>\n",
       "    <tr>\n",
       "      <th>29571</th>\n",
       "      <td>2019-09-02</td>\n",
       "      <td>2880</td>\n",
       "      <td>H</td>\n",
       "      <td>4.0</td>\n",
       "      <td>370.0</td>\n",
       "    </tr>\n",
       "    <tr>\n",
       "      <th>29572</th>\n",
       "      <td>2019-09-11</td>\n",
       "      <td>2880</td>\n",
       "      <td>H</td>\n",
       "      <td>4.0</td>\n",
       "      <td>238.0</td>\n",
       "    </tr>\n",
       "    <tr>\n",
       "      <th>29573</th>\n",
       "      <td>2019-09-25</td>\n",
       "      <td>2880</td>\n",
       "      <td>H</td>\n",
       "      <td>4.0</td>\n",
       "      <td>320.0</td>\n",
       "    </tr>\n",
       "    <tr>\n",
       "      <th>29574</th>\n",
       "      <td>2019-09-05</td>\n",
       "      <td>2880</td>\n",
       "      <td>H</td>\n",
       "      <td>6.0</td>\n",
       "      <td>370.0</td>\n",
       "    </tr>\n",
       "  </tbody>\n",
       "</table>\n",
       "<p>894062 rows × 5 columns</p>\n",
       "</div>"
      ],
      "text/plain": [
       "      Lodgement Date  Postcode Dwelling Type  Bedrooms  Weekly Rent\n",
       "0         2019-06-04      2000             F       0.0        500.0\n",
       "1         2019-06-07      2000             F       0.0        500.0\n",
       "2         2019-06-18      2000             F       0.0        785.0\n",
       "3         2019-06-17      2000             F       0.0        580.0\n",
       "4         2019-06-28      2000             F       0.0        590.0\n",
       "...              ...       ...           ...       ...          ...\n",
       "29570     2019-09-20      2880             H       3.0        200.0\n",
       "29571     2019-09-02      2880             H       4.0        370.0\n",
       "29572     2019-09-11      2880             H       4.0        238.0\n",
       "29573     2019-09-25      2880             H       4.0        320.0\n",
       "29574     2019-09-05      2880             H       6.0        370.0\n",
       "\n",
       "[894062 rows x 5 columns]"
      ]
     },
     "execution_count": 23,
     "metadata": {},
     "output_type": "execute_result"
    }
   ],
   "source": [
    "# Concatenate together all spreadsheets.\n",
    "df = pd.concat([to_dataframe(xlsx) for xlsx in xlsxs])\n",
    "df"
   ]
  },
  {
   "cell_type": "code",
   "execution_count": 25,
   "metadata": {},
   "outputs": [
    {
     "data": {
      "text/plain": [
       "Lodgement Date    datetime64[ns]\n",
       "Postcode                   int64\n",
       "Dwelling Type             object\n",
       "Bedrooms                 float64\n",
       "Weekly Rent              float64\n",
       "dtype: object"
      ]
     },
     "execution_count": 25,
     "metadata": {},
     "output_type": "execute_result"
    }
   ],
   "source": [
    "# Check types\n",
    "df.dtypes"
   ]
  },
  {
   "cell_type": "code",
   "execution_count": 24,
   "metadata": {},
   "outputs": [],
   "source": [
    "# Output to JSONL for BigQuery\n",
    "df.to_json(\n",
    "    path_or_buf='nsw-rental-bonds.jsonl',\n",
    "    orient=\"records\",\n",
    "    lines=True,\n",
    "    date_format='iso'\n",
    ")"
   ]
  },
  {
   "cell_type": "code",
   "execution_count": 31,
   "metadata": {},
   "outputs": [],
   "source": [
    "# JSONL was too big (BigQuery had a 10MB upload limit). Output to parquet instead, much smaller.\n",
    "df.to_parquet(\n",
    "    path='nsw-rental-bonds.parquet',\n",
    "    # Otherwise you get a '__index_level_0__' column\n",
    "    index=False,\n",
    ")"
   ]
  }
 ],
 "metadata": {
  "kernelspec": {
   "display_name": "Python 3",
   "language": "python",
   "name": "python3"
  },
  "language_info": {
   "codemirror_mode": {
    "name": "ipython",
    "version": 3
   },
   "file_extension": ".py",
   "mimetype": "text/x-python",
   "name": "python",
   "nbconvert_exporter": "python",
   "pygments_lexer": "ipython3",
   "version": "3.8.5"
  }
 },
 "nbformat": 4,
 "nbformat_minor": 2
}
